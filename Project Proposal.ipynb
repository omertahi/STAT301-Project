{
 "cells": [
  {
   "cell_type": "markdown",
   "id": "51291bf3-3a0d-49ca-944c-59157ecd48a1",
   "metadata": {},
   "source": [
    "# Group Proposal"
   ]
  },
  {
   "cell_type": "markdown",
   "id": "56b4b636-a21d-4e3d-9182-c3b9a2ef99a9",
   "metadata": {},
   "source": [
    "#### **Authors:** Linda Huang, Manav Kakar, Omer Tahir, Yuchen Zhang\n",
    "#### **Group:** 2"
   ]
  },
  {
   "cell_type": "markdown",
   "id": "a188d203-0788-4692-bb68-1fb9d66fa200",
   "metadata": {
    "tags": []
   },
   "source": [
    "## 1. Introduction"
   ]
  },
  {
   "cell_type": "markdown",
   "id": "26ef5177-763f-4acb-be35-3628d4522d9f",
   "metadata": {},
   "source": [
    "1. **Relevant background information** on the topic so that someone unfamiliar with it will be prepared to understand the rest of your proposal.\n",
    "\n",
    "2. **Clearly state the question** you will try to answer with your project. Your question should involve one random variable of interest (the response) and one or more explanatory variables. Of the response variable, explain whether your project is focused on prediction, inference, or both.\n",
    "\n",
    "3. **Identify and describe the dataset** that will be used to answer the question. Remember, this dataset is allowed to contain more variables than you need, in fact, exploring how the different variables in the dataset affect your model, is a crucial part of the project.\n",
    "\n",
    "4. Also, be sure to **frame your question/objectives in terms of what is already known in the literature**. Be sure to include at least **two scientific publications** that can help frame your study (you will need to include these in the References section)."
   ]
  },
  {
   "cell_type": "markdown",
   "id": "03b988b5-5da6-44a1-b927-9961b307dd5c",
   "metadata": {},
   "source": [
    "## 2. Preliminary Results"
   ]
  },
  {
   "cell_type": "markdown",
   "id": "dd7073fb-ff5d-4760-a564-c62be1da7546",
   "metadata": {},
   "source": [
    "### 2.1 Loading relevant libraries"
   ]
  },
  {
   "cell_type": "code",
   "execution_count": 5,
   "id": "f0ed7d49-569a-491f-8bb4-1f875286e526",
   "metadata": {},
   "outputs": [
    {
     "name": "stderr",
     "output_type": "stream",
     "text": [
      "Warning message:\n",
      "\"package 'ggcorrplot' was built under R version 4.1.3\"\n"
     ]
    }
   ],
   "source": [
    "library(tidyverse)\n",
    "library(ggcorrplot)\n",
    "library(broom)\n",
    "library(repr)\n",
    "library(digest)\n",
    "library(infer)\n",
    "library(gridExtra)\n",
    "library(faraway)\n",
    "library(mltools)\n",
    "library(leaps)\n",
    "library(glmnet)\n",
    "library(cowplot)\n",
    "\n",
    "options(repr.matrix.max.rows = 6) #limits output of dataframes to 6 rows"
   ]
  },
  {
   "cell_type": "markdown",
   "id": "3d8368eb-4326-4085-8002-f9817ea0de8e",
   "metadata": {},
   "source": [
    "### 2.2 Reading and Wrangling the dataset from web in R"
   ]
  },
  {
   "cell_type": "code",
   "execution_count": 18,
   "id": "b36f7276-93ee-4ed0-aee1-a698fe4f41ea",
   "metadata": {},
   "outputs": [],
   "source": [
    "url <- \"http://archive.ics.uci.edu/ml/machine-learning-databases/00560/SeoulBikeData.csv\"\n",
    "\n",
    "bike_data <- \n",
    "#read.csv(\"data/SeoulBikeData.csv\") |>\n",
    "    read.csv(url, encoding = 'utf-8') |>\n",
    "    setNames(c(\"date\",\n",
    "               \"bike_count\",\n",
    "               \"hour\",\n",
    "               \"temperature\",\n",
    "               \"humidity\",\n",
    "               \"wind_speed\",\n",
    "               \"visibility\",\n",
    "               \"dew_point_temp\",\n",
    "               \"radiation\",\n",
    "               \"rain\",\n",
    "               \"snow\",\n",
    "               \"season\",\n",
    "               \"holiday\",\n",
    "               \"functional_day\")) |>\n",
    "    filter(functional_day == \"Yes\") |>\n",
    "    select(-functional_day) "
   ]
  },
  {
   "cell_type": "code",
   "execution_count": 19,
   "id": "af506a1e-6c3d-48f9-8b1b-da6b6ae25186",
   "metadata": {},
   "outputs": [
    {
     "data": {
      "text/html": [
       "<table class=\"dataframe\">\n",
       "<caption>A data.frame: 8465 × 13</caption>\n",
       "<thead>\n",
       "\t<tr><th scope=col>date</th><th scope=col>bike_count</th><th scope=col>hour</th><th scope=col>temperature</th><th scope=col>humidity</th><th scope=col>wind_speed</th><th scope=col>visibility</th><th scope=col>dew_point_temp</th><th scope=col>radiation</th><th scope=col>rain</th><th scope=col>snow</th><th scope=col>season</th><th scope=col>holiday</th></tr>\n",
       "\t<tr><th scope=col>&lt;chr&gt;</th><th scope=col>&lt;int&gt;</th><th scope=col>&lt;int&gt;</th><th scope=col>&lt;dbl&gt;</th><th scope=col>&lt;int&gt;</th><th scope=col>&lt;dbl&gt;</th><th scope=col>&lt;int&gt;</th><th scope=col>&lt;dbl&gt;</th><th scope=col>&lt;dbl&gt;</th><th scope=col>&lt;dbl&gt;</th><th scope=col>&lt;dbl&gt;</th><th scope=col>&lt;chr&gt;</th><th scope=col>&lt;chr&gt;</th></tr>\n",
       "</thead>\n",
       "<tbody>\n",
       "\t<tr><td>01/12/2017</td><td>254</td><td>0</td><td>-5.2</td><td>37</td><td>2.2</td><td>2000</td><td>-17.6</td><td>0</td><td>0</td><td>0</td><td>Winter</td><td>No Holiday</td></tr>\n",
       "\t<tr><td>01/12/2017</td><td>204</td><td>1</td><td>-5.5</td><td>38</td><td>0.8</td><td>2000</td><td>-17.6</td><td>0</td><td>0</td><td>0</td><td>Winter</td><td>No Holiday</td></tr>\n",
       "\t<tr><td>01/12/2017</td><td>173</td><td>2</td><td>-6.0</td><td>39</td><td>1.0</td><td>2000</td><td>-17.7</td><td>0</td><td>0</td><td>0</td><td>Winter</td><td>No Holiday</td></tr>\n",
       "\t<tr><td>⋮</td><td>⋮</td><td>⋮</td><td>⋮</td><td>⋮</td><td>⋮</td><td>⋮</td><td>⋮</td><td>⋮</td><td>⋮</td><td>⋮</td><td>⋮</td><td>⋮</td></tr>\n",
       "\t<tr><td>30/11/2018</td><td>694</td><td>21</td><td>2.6</td><td>39</td><td>0.3</td><td>1968</td><td>-9.9</td><td>0</td><td>0</td><td>0</td><td>Autumn</td><td>No Holiday</td></tr>\n",
       "\t<tr><td>30/11/2018</td><td>712</td><td>22</td><td>2.1</td><td>41</td><td>1.0</td><td>1859</td><td>-9.8</td><td>0</td><td>0</td><td>0</td><td>Autumn</td><td>No Holiday</td></tr>\n",
       "\t<tr><td>30/11/2018</td><td>584</td><td>23</td><td>1.9</td><td>43</td><td>1.3</td><td>1909</td><td>-9.3</td><td>0</td><td>0</td><td>0</td><td>Autumn</td><td>No Holiday</td></tr>\n",
       "</tbody>\n",
       "</table>\n"
      ],
      "text/latex": [
       "A data.frame: 8465 × 13\n",
       "\\begin{tabular}{lllllllllllll}\n",
       " date & bike\\_count & hour & temperature & humidity & wind\\_speed & visibility & dew\\_point\\_temp & radiation & rain & snow & season & holiday\\\\\n",
       " <chr> & <int> & <int> & <dbl> & <int> & <dbl> & <int> & <dbl> & <dbl> & <dbl> & <dbl> & <chr> & <chr>\\\\\n",
       "\\hline\n",
       "\t 01/12/2017 & 254 & 0 & -5.2 & 37 & 2.2 & 2000 & -17.6 & 0 & 0 & 0 & Winter & No Holiday\\\\\n",
       "\t 01/12/2017 & 204 & 1 & -5.5 & 38 & 0.8 & 2000 & -17.6 & 0 & 0 & 0 & Winter & No Holiday\\\\\n",
       "\t 01/12/2017 & 173 & 2 & -6.0 & 39 & 1.0 & 2000 & -17.7 & 0 & 0 & 0 & Winter & No Holiday\\\\\n",
       "\t ⋮ & ⋮ & ⋮ & ⋮ & ⋮ & ⋮ & ⋮ & ⋮ & ⋮ & ⋮ & ⋮ & ⋮ & ⋮\\\\\n",
       "\t 30/11/2018 & 694 & 21 & 2.6 & 39 & 0.3 & 1968 & -9.9 & 0 & 0 & 0 & Autumn & No Holiday\\\\\n",
       "\t 30/11/2018 & 712 & 22 & 2.1 & 41 & 1.0 & 1859 & -9.8 & 0 & 0 & 0 & Autumn & No Holiday\\\\\n",
       "\t 30/11/2018 & 584 & 23 & 1.9 & 43 & 1.3 & 1909 & -9.3 & 0 & 0 & 0 & Autumn & No Holiday\\\\\n",
       "\\end{tabular}\n"
      ],
      "text/markdown": [
       "\n",
       "A data.frame: 8465 × 13\n",
       "\n",
       "| date &lt;chr&gt; | bike_count &lt;int&gt; | hour &lt;int&gt; | temperature &lt;dbl&gt; | humidity &lt;int&gt; | wind_speed &lt;dbl&gt; | visibility &lt;int&gt; | dew_point_temp &lt;dbl&gt; | radiation &lt;dbl&gt; | rain &lt;dbl&gt; | snow &lt;dbl&gt; | season &lt;chr&gt; | holiday &lt;chr&gt; |\n",
       "|---|---|---|---|---|---|---|---|---|---|---|---|---|\n",
       "| 01/12/2017 | 254 | 0 | -5.2 | 37 | 2.2 | 2000 | -17.6 | 0 | 0 | 0 | Winter | No Holiday |\n",
       "| 01/12/2017 | 204 | 1 | -5.5 | 38 | 0.8 | 2000 | -17.6 | 0 | 0 | 0 | Winter | No Holiday |\n",
       "| 01/12/2017 | 173 | 2 | -6.0 | 39 | 1.0 | 2000 | -17.7 | 0 | 0 | 0 | Winter | No Holiday |\n",
       "| ⋮ | ⋮ | ⋮ | ⋮ | ⋮ | ⋮ | ⋮ | ⋮ | ⋮ | ⋮ | ⋮ | ⋮ | ⋮ |\n",
       "| 30/11/2018 | 694 | 21 | 2.6 | 39 | 0.3 | 1968 | -9.9 | 0 | 0 | 0 | Autumn | No Holiday |\n",
       "| 30/11/2018 | 712 | 22 | 2.1 | 41 | 1.0 | 1859 | -9.8 | 0 | 0 | 0 | Autumn | No Holiday |\n",
       "| 30/11/2018 | 584 | 23 | 1.9 | 43 | 1.3 | 1909 | -9.3 | 0 | 0 | 0 | Autumn | No Holiday |\n",
       "\n"
      ],
      "text/plain": [
       "     date       bike_count hour temperature humidity wind_speed visibility\n",
       "1    01/12/2017 254        0    -5.2        37       2.2        2000      \n",
       "2    01/12/2017 204        1    -5.5        38       0.8        2000      \n",
       "3    01/12/2017 173        2    -6.0        39       1.0        2000      \n",
       "<U+22EE>    <U+22EE>   <U+22EE>   <U+22EE> <U+22EE>    <U+22EE> <U+22EE>   <U+22EE>  \n",
       "8463 30/11/2018 694        21   2.6         39       0.3        1968      \n",
       "8464 30/11/2018 712        22   2.1         41       1.0        1859      \n",
       "8465 30/11/2018 584        23   1.9         43       1.3        1909      \n",
       "     dew_point_temp radiation rain snow season holiday   \n",
       "1    -17.6          0         0    0    Winter No Holiday\n",
       "2    -17.6          0         0    0    Winter No Holiday\n",
       "3    -17.7          0         0    0    Winter No Holiday\n",
       "<U+22EE>    <U+22EE>       <U+22EE>  <U+22EE> <U+22EE> <U+22EE> <U+22EE>  \n",
       "8463 -9.9           0         0    0    Autumn No Holiday\n",
       "8464 -9.8           0         0    0    Autumn No Holiday\n",
       "8465 -9.3           0         0    0    Autumn No Holiday"
      ]
     },
     "metadata": {},
     "output_type": "display_data"
    }
   ],
   "source": [
    "View(bike_data)"
   ]
  },
  {
   "cell_type": "markdown",
   "id": "d91034bb-a54d-4451-abc0-193f47f3269f",
   "metadata": {},
   "source": [
    "### 2.3 Exploratory Data Analysis"
   ]
  },
  {
   "cell_type": "markdown",
   "id": "905aa8b2-d49c-463d-82e1-3466fdc9b02d",
   "metadata": {},
   "source": [
    "#### 2.3.1 Checking for correlations"
   ]
  },
  {
   "cell_type": "code",
   "execution_count": 20,
   "id": "49d26927-40c2-4422-b64d-a9677f16320e",
   "metadata": {},
   "outputs": [
    {
     "data": {
      "image/png": "[encoded data removed]",
      "text/plain": [
       "plot without title"
      ]
     },
     "metadata": {
      "image/png": {
       "height": 600,
       "width": 900
      }
     },
     "output_type": "display_data"
    }
   ],
   "source": [
    "options(repr.plot.width = 15, repr.plot.height = 10)\n",
    "\n",
    "corr_plot <- \n",
    "    bike_data |>\n",
    "    select(-c(date, season, holiday, bike_count)) |>\n",
    "    cor() |>\n",
    "    round(2) |> \n",
    "    ggcorrplot(hc.order = TRUE,\n",
    "               outline.col = \"white\",\n",
    "               type = \"lower\",\n",
    "               lab = TRUE,\n",
    "               lab_size = 6,\n",
    "               tl.cex = 18,\n",
    "               colors = c(\"white\", \"orange\", \"red\"),\n",
    "               legend.title = \"Correlation Coefficient\\n\") +\n",
    "    theme(legend.title = element_text(size = 18, face = \"bold\"),\n",
    "          legend.text = element_text(size = 18),\n",
    "          legend.key.size = unit(2, \"cm\")) \n",
    "\n",
    "corr_plot"
   ]
  },
  {
   "cell_type": "markdown",
   "id": "1cd1886b-fae1-49d2-a52d-9851725b8ddb",
   "metadata": {},
   "source": [
    "* In general, an absolute correlation coefficient of >0.7 among two or more predictors indicates the presence of multicollinearity.\n",
    "* This suggests that the variables `dew_point_temp` and `temp` are indicating the presence of multicollinearity since they have a very high correlation of 0.91.\n",
    "* To help us decide which of these 2 variables we should ommit from our analyses later on, we use the Variation Inflation Factor (VIF) method."
   ]
  },
  {
   "cell_type": "code",
   "execution_count": 22,
   "id": "c1aaf1a2-14c2-4f21-9f25-98ebe2a6f852",
   "metadata": {},
   "outputs": [
    {
     "data": {
      "text/html": [
       "<style>\n",
       ".dl-inline {width: auto; margin:0; padding: 0}\n",
       ".dl-inline>dt, .dl-inline>dd {float: none; width: auto; display: inline-block}\n",
       ".dl-inline>dt::after {content: \":\\0020\"; padding-right: .5ex}\n",
       ".dl-inline>dt:not(:first-of-type) {padding-left: .5ex}\n",
       "</style><dl class=dl-inline><dt>hour</dt><dd>1.18</dd><dt>temperature</dt><dd>87.644</dd><dt>humidity</dt><dd>20.163</dd><dt>wind_speed</dt><dd>1.274</dd><dt>visibility</dt><dd>1.575</dd><dt>dew_point_temp</dt><dd>116.462</dd><dt>radiation</dt><dd>2.011</dd><dt>rain</dt><dd>1.084</dd><dt>snow</dt><dd>1.096</dd></dl>\n"
      ],
      "text/latex": [
       "\\begin{description*}\n",
       "\\item[hour] 1.18\n",
       "\\item[temperature] 87.644\n",
       "\\item[humidity] 20.163\n",
       "\\item[wind\\textbackslash{}\\_speed] 1.274\n",
       "\\item[visibility] 1.575\n",
       "\\item[dew\\textbackslash{}\\_point\\textbackslash{}\\_temp] 116.462\n",
       "\\item[radiation] 2.011\n",
       "\\item[rain] 1.084\n",
       "\\item[snow] 1.096\n",
       "\\end{description*}\n"
      ],
      "text/markdown": [
       "hour\n",
       ":   1.18temperature\n",
       ":   87.644humidity\n",
       ":   20.163wind_speed\n",
       ":   1.274visibility\n",
       ":   1.575dew_point_temp\n",
       ":   116.462radiation\n",
       ":   2.011rain\n",
       ":   1.084snow\n",
       ":   1.096\n",
       "\n"
      ],
      "text/plain": [
       "          hour    temperature       humidity     wind_speed     visibility \n",
       "         1.180         87.644         20.163          1.274          1.575 \n",
       "dew_point_temp      radiation           rain           snow \n",
       "       116.462          2.011          1.084          1.096 "
      ]
     },
     "metadata": {},
     "output_type": "display_data"
    }
   ],
   "source": [
    "VIF_MLR_bike <- \n",
    "    bike_data %>%\n",
    "    select(-c(date, season, holiday)) %>%\n",
    "    lm(bike_count ~ ., data = .) %>%\n",
    "    vif() %>%\n",
    "    round(3)\n",
    "\n",
    "VIF_MLR_bike"
   ]
  },
  {
   "cell_type": "markdown",
   "id": "cbb73e15-5c60-45da-b1ce-633960522912",
   "metadata": {},
   "source": [
    "* James et al. (2013) in [*An Introduction to Statistical Learning*](https://www.statlearning.com/) indicate that, as a rule of thumb, a VIF value that exceeds 5 or 10 is an indicator of a  multicollinearity problem.\n",
    "* We can clearly see that `dew_point_temp` has an extremely high VIF value of 116.46 therefore we decide to ommit it and see how the other VIFs are effected."
   ]
  },
  {
   "cell_type": "code",
   "execution_count": 24,
   "id": "50515ea7-7962-4b4e-a974-2fb48d75a19f",
   "metadata": {},
   "outputs": [
    {
     "data": {
      "text/html": [
       "<style>\n",
       ".dl-inline {width: auto; margin:0; padding: 0}\n",
       ".dl-inline>dt, .dl-inline>dd {float: none; width: auto; display: inline-block}\n",
       ".dl-inline>dt::after {content: \":\\0020\"; padding-right: .5ex}\n",
       ".dl-inline>dt:not(:first-of-type) {padding-left: .5ex}\n",
       "</style><dl class=dl-inline><dt>hour</dt><dd>1.178</dd><dt>temperature</dt><dd>1.629</dd><dt>humidity</dt><dd>2.533</dd><dt>wind_speed</dt><dd>1.272</dd><dt>visibility</dt><dd>1.564</dd><dt>radiation</dt><dd>1.911</dd><dt>rain</dt><dd>1.071</dd><dt>snow</dt><dd>1.091</dd></dl>\n"
      ],
      "text/latex": [
       "\\begin{description*}\n",
       "\\item[hour] 1.178\n",
       "\\item[temperature] 1.629\n",
       "\\item[humidity] 2.533\n",
       "\\item[wind\\textbackslash{}\\_speed] 1.272\n",
       "\\item[visibility] 1.564\n",
       "\\item[radiation] 1.911\n",
       "\\item[rain] 1.071\n",
       "\\item[snow] 1.091\n",
       "\\end{description*}\n"
      ],
      "text/markdown": [
       "hour\n",
       ":   1.178temperature\n",
       ":   1.629humidity\n",
       ":   2.533wind_speed\n",
       ":   1.272visibility\n",
       ":   1.564radiation\n",
       ":   1.911rain\n",
       ":   1.071snow\n",
       ":   1.091\n",
       "\n"
      ],
      "text/plain": [
       "       hour temperature    humidity  wind_speed  visibility   radiation \n",
       "      1.178       1.629       2.533       1.272       1.564       1.911 \n",
       "       rain        snow \n",
       "      1.071       1.091 "
      ]
     },
     "metadata": {},
     "output_type": "display_data"
    }
   ],
   "source": [
    "VIF_MLR_bike <- \n",
    "    bike_data %>%\n",
    "    select(-c(date, season, holiday, dew_point_temp)) %>%\n",
    "    lm(bike_count ~ ., data = .) %>%\n",
    "    vif() %>%\n",
    "    round(3)\n",
    "\n",
    "VIF_MLR_bike"
   ]
  },
  {
   "cell_type": "markdown",
   "id": "ec57102b-eb09-460f-b27c-9e93d638c34c",
   "metadata": {},
   "source": [
    "* It is clear that `dew_point_temp` was creating multicollinearity thus we have decided to ommit it from any further analyses."
   ]
  },
  {
   "cell_type": "markdown",
   "id": "a4927c01-e483-491e-a840-71717d1b5327",
   "metadata": {},
   "source": [
    "#### 2.3.2 Confounders and Causality"
   ]
  },
  {
   "cell_type": "markdown",
   "id": "35be1190-c817-403e-9492-47295dcd6e0c",
   "metadata": {},
   "source": [
    "* We also suspect the categorical variable `season` to be a confounding factor in our data.\n",
    "* This is because when choosing `bike_count` as our response variable $Y$ and `humidity` as our input variables $X$, we have reason to believe that including  another input variable `season` confounds the $X$-$Y$ relationship if `season` and `humidity` are associated, and `season` and `bike_count` are associated.\n",
    "* To analyze this, we will contruct a boxplot with `bike_counts` on the $y$-axis and `season` on the $x$-axis."
   ]
  },
  {
   "cell_type": "code",
   "execution_count": 27,
   "id": "d16a783c-8d62-46a5-9a90-9539300c58a1",
   "metadata": {},
   "outputs": [
    {
     "data": {
      "image/png": "[encoded data removed]",
      "text/plain": [
       "plot without title"
      ]
     },
     "metadata": {
      "image/png": {
       "height": 360,
       "width": 600
      }
     },
     "output_type": "display_data"
    }
   ],
   "source": [
    "options(repr.plot.width = 10, repr.plot.height = 6)\n",
    "\n",
    "bike_data |> \n",
    "select(bike_count, season, rain) |> \n",
    "ggplot(aes(x = season, y = bike_count)) + \n",
    "geom_boxplot()"
   ]
  },
  {
   "cell_type": "code",
   "execution_count": 39,
   "id": "7c87e559-d2da-4c0a-8481-c3ae1581ffa9",
   "metadata": {},
   "outputs": [
    {
     "data": {
      "image/png": "[encoded data removed]",
      "text/plain": [
       "plot without title"
      ]
     },
     "metadata": {
      "image/png": {
       "height": 360,
       "width": 600
      }
     },
     "output_type": "display_data"
    }
   ],
   "source": [
    "bike_data |> \n",
    "select(bike_count, season, humidity) |> \n",
    "ggplot(aes(x = humidity, y = bike_count)) + \n",
    "geom_bar(aes(fill = season), stat = \"identity\")"
   ]
  },
  {
   "cell_type": "code",
   "execution_count": null,
   "id": "780d7daf-9863-4887-9965-fbb2c0a115f3",
   "metadata": {},
   "outputs": [],
   "source": []
  },
  {
   "cell_type": "markdown",
   "id": "8d239681-d9e4-4b1a-9e31-27c40bcad9d8",
   "metadata": {},
   "source": [
    "#### Relation b/w high correlated variables and response variable"
   ]
  },
  {
   "cell_type": "code",
   "execution_count": 9,
   "id": "029fb8c8-3b94-463b-89b9-d286989f2751",
   "metadata": {},
   "outputs": [
    {
     "data": {
      "text/html": [
       "<table class=\"dataframe\">\n",
       "<caption>A tibble: 6 × 2</caption>\n",
       "<thead>\n",
       "\t<tr><th scope=col>hour</th><th scope=col>mean_bike_count</th></tr>\n",
       "\t<tr><th scope=col>&lt;int&gt;</th><th scope=col>&lt;dbl&gt;</th></tr>\n",
       "</thead>\n",
       "<tbody>\n",
       "\t<tr><td>0</td><td>561.4574</td></tr>\n",
       "\t<tr><td>1</td><td>441.9233</td></tr>\n",
       "\t<tr><td>2</td><td>312.7699</td></tr>\n",
       "\t<tr><td>3</td><td>210.8409</td></tr>\n",
       "\t<tr><td>4</td><td>137.4886</td></tr>\n",
       "\t<tr><td>5</td><td>144.2188</td></tr>\n",
       "</tbody>\n",
       "</table>\n"
      ],
      "text/latex": [
       "A tibble: 6 × 2\n",
       "\\begin{tabular}{ll}\n",
       " hour & mean\\_bike\\_count\\\\\n",
       " <int> & <dbl>\\\\\n",
       "\\hline\n",
       "\t 0 & 561.4574\\\\\n",
       "\t 1 & 441.9233\\\\\n",
       "\t 2 & 312.7699\\\\\n",
       "\t 3 & 210.8409\\\\\n",
       "\t 4 & 137.4886\\\\\n",
       "\t 5 & 144.2188\\\\\n",
       "\\end{tabular}\n"
      ],
      "text/markdown": [
       "\n",
       "A tibble: 6 × 2\n",
       "\n",
       "| hour &lt;int&gt; | mean_bike_count &lt;dbl&gt; |\n",
       "|---|---|\n",
       "| 0 | 561.4574 |\n",
       "| 1 | 441.9233 |\n",
       "| 2 | 312.7699 |\n",
       "| 3 | 210.8409 |\n",
       "| 4 | 137.4886 |\n",
       "| 5 | 144.2188 |\n",
       "\n"
      ],
      "text/plain": [
       "  hour mean_bike_count\n",
       "1 0    561.4574       \n",
       "2 1    441.9233       \n",
       "3 2    312.7699       \n",
       "4 3    210.8409       \n",
       "5 4    137.4886       \n",
       "6 5    144.2188       "
      ]
     },
     "metadata": {},
     "output_type": "display_data"
    }
   ],
   "source": [
    "bike_data_1 <- bike_data %>%\n",
    "              select(- date)%>%\n",
    "              group_by(hour) %>%\n",
    "              summarise(mean_bike_count= mean(bike_count))\n",
    "head(bike_data_1)\n"
   ]
  },
  {
   "cell_type": "code",
   "execution_count": 10,
   "id": "26e3f353-abe5-47e0-a07a-7b0a2c6f420f",
   "metadata": {},
   "outputs": [
    {
     "data": {
      "image/png": "[encoded data removed]",
      "text/plain": [
       "plot without title"
      ]
     },
     "metadata": {
      "image/png": {
       "height": 360,
       "width": 480
      }
     },
     "output_type": "display_data"
    }
   ],
   "source": [
    "options(repr.plot.width = 8, repr.plot.height = 6)\n",
    "bike_data_1_plot <- bike_data_1 %>%\n",
    "   ggplot(aes(x=hour, y= mean_bike_count)) +\n",
    "   geom_bar(stat=\"identity\",width=0.7, fill=\"steelblue\")+  \n",
    "   ggtitle(\"barplot of bike_count and hour\")\n",
    "bike_data_1_plot\n"
   ]
  },
  {
   "cell_type": "code",
   "execution_count": 11,
   "id": "6f2c44fc-daf4-4caf-bd3a-fdce24ab85e5",
   "metadata": {},
   "outputs": [
    {
     "data": {
      "text/html": [
       "<table class=\"dataframe\">\n",
       "<caption>A tibble: 6 × 2</caption>\n",
       "<thead>\n",
       "\t<tr><th scope=col>temperature</th><th scope=col>mean_bike_count</th></tr>\n",
       "\t<tr><th scope=col>&lt;dbl&gt;</th><th scope=col>&lt;dbl&gt;</th></tr>\n",
       "</thead>\n",
       "<tbody>\n",
       "\t<tr><td>-17.8</td><td>322.0</td></tr>\n",
       "\t<tr><td>-17.5</td><td>145.5</td></tr>\n",
       "\t<tr><td>-17.4</td><td> 64.0</td></tr>\n",
       "\t<tr><td>-16.9</td><td> 36.0</td></tr>\n",
       "\t<tr><td>-16.5</td><td> 96.0</td></tr>\n",
       "\t<tr><td>-16.4</td><td>186.5</td></tr>\n",
       "</tbody>\n",
       "</table>\n"
      ],
      "text/latex": [
       "A tibble: 6 × 2\n",
       "\\begin{tabular}{ll}\n",
       " temperature & mean\\_bike\\_count\\\\\n",
       " <dbl> & <dbl>\\\\\n",
       "\\hline\n",
       "\t -17.8 & 322.0\\\\\n",
       "\t -17.5 & 145.5\\\\\n",
       "\t -17.4 &  64.0\\\\\n",
       "\t -16.9 &  36.0\\\\\n",
       "\t -16.5 &  96.0\\\\\n",
       "\t -16.4 & 186.5\\\\\n",
       "\\end{tabular}\n"
      ],
      "text/markdown": [
       "\n",
       "A tibble: 6 × 2\n",
       "\n",
       "| temperature &lt;dbl&gt; | mean_bike_count &lt;dbl&gt; |\n",
       "|---|---|\n",
       "| -17.8 | 322.0 |\n",
       "| -17.5 | 145.5 |\n",
       "| -17.4 |  64.0 |\n",
       "| -16.9 |  36.0 |\n",
       "| -16.5 |  96.0 |\n",
       "| -16.4 | 186.5 |\n",
       "\n"
      ],
      "text/plain": [
       "  temperature mean_bike_count\n",
       "1 -17.8       322.0          \n",
       "2 -17.5       145.5          \n",
       "3 -17.4        64.0          \n",
       "4 -16.9        36.0          \n",
       "5 -16.5        96.0          \n",
       "6 -16.4       186.5          "
      ]
     },
     "metadata": {},
     "output_type": "display_data"
    }
   ],
   "source": [
    "options(repr.plot.width = 8, repr.plot.height = 6)\n",
    "bike_data_2 <- bike_data %>%\n",
    "              select(- date)%>%\n",
    "              group_by(temperature) %>%\n",
    "              summarise(mean_bike_count= mean(bike_count))\n",
    "head(bike_data_2)"
   ]
  },
  {
   "cell_type": "code",
   "execution_count": 12,
   "id": "cf2f20f1-63cc-4b4e-ae87-c235bb45c3da",
   "metadata": {},
   "outputs": [
    {
     "name": "stderr",
     "output_type": "stream",
     "text": [
      "`geom_smooth()` using formula 'y ~ x'\n",
      "\n"
     ]
    },
    {
     "data": {
      "image/png": "[encoded data removed]",
      "text/plain": [
       "plot without title"
      ]
     },
     "metadata": {
      "image/png": {
       "height": 360,
       "width": 480
      }
     },
     "output_type": "display_data"
    }
   ],
   "source": [
    "options(repr.plot.width = 8, repr.plot.height = 6)\n",
    "bike_plot_2 <- \n",
    "     ggplot(bike_data_2, aes(x=temperature,y=mean_bike_count))+\n",
    "     geom_line()+\n",
    "     geom_smooth(method=lm , color=\"red\", se=FALSE) +\n",
    "     labs(x =\"temperature\", y=\"mean bike count\")+\n",
    "     ggtitle(\"histogram of temperature and mean bike count\")\n",
    " \n",
    "bike_plot_2"
   ]
  },
  {
   "cell_type": "code",
   "execution_count": 13,
   "id": "8ec96552-9870-4792-b3ca-388df21f106c",
   "metadata": {},
   "outputs": [
    {
     "data": {
      "text/html": [
       "<table class=\"dataframe\">\n",
       "<caption>A tibble: 4 × 2</caption>\n",
       "<thead>\n",
       "\t<tr><th scope=col>season</th><th scope=col>mean_bike_count</th></tr>\n",
       "\t<tr><th scope=col>&lt;chr&gt;</th><th scope=col>&lt;dbl&gt;</th></tr>\n",
       "</thead>\n",
       "<tbody>\n",
       "\t<tr><td>Autumn</td><td> 924.1105</td></tr>\n",
       "\t<tr><td>Spring</td><td> 746.2542</td></tr>\n",
       "\t<tr><td>Summer</td><td>1034.0734</td></tr>\n",
       "\t<tr><td>Winter</td><td> 225.5412</td></tr>\n",
       "</tbody>\n",
       "</table>\n"
      ],
      "text/latex": [
       "A tibble: 4 × 2\n",
       "\\begin{tabular}{ll}\n",
       " season & mean\\_bike\\_count\\\\\n",
       " <chr> & <dbl>\\\\\n",
       "\\hline\n",
       "\t Autumn &  924.1105\\\\\n",
       "\t Spring &  746.2542\\\\\n",
       "\t Summer & 1034.0734\\\\\n",
       "\t Winter &  225.5412\\\\\n",
       "\\end{tabular}\n"
      ],
      "text/markdown": [
       "\n",
       "A tibble: 4 × 2\n",
       "\n",
       "| season &lt;chr&gt; | mean_bike_count &lt;dbl&gt; |\n",
       "|---|---|\n",
       "| Autumn |  924.1105 |\n",
       "| Spring |  746.2542 |\n",
       "| Summer | 1034.0734 |\n",
       "| Winter |  225.5412 |\n",
       "\n"
      ],
      "text/plain": [
       "  season mean_bike_count\n",
       "1 Autumn  924.1105      \n",
       "2 Spring  746.2542      \n",
       "3 Summer 1034.0734      \n",
       "4 Winter  225.5412      "
      ]
     },
     "metadata": {},
     "output_type": "display_data"
    }
   ],
   "source": [
    "options(repr.plot.width = 8, repr.plot.height = 6)\n",
    "bike_data_3 <- bike_data %>%\n",
    "              select(- date)%>%\n",
    "              group_by(season) %>%\n",
    "              summarise(mean_bike_count= mean(bike_count))\n",
    "head(bike_data_3)"
   ]
  },
  {
   "cell_type": "code",
   "execution_count": null,
   "id": "b0ba60e0-f9fd-45eb-8b38-5ba87ec41a36",
   "metadata": {},
   "outputs": [],
   "source": []
  },
  {
   "cell_type": "markdown",
   "id": "79befca9-31d2-4a4c-b74c-030c7265a5aa",
   "metadata": {},
   "source": [
    "`From the above two plots, we can see that the bike count\n",
    "varies greatly with temperature and hour, as we can see from the correlation plot.`"
   ]
  },
  {
   "cell_type": "markdown",
   "id": "be17f7ed-7daa-4b7c-80db-d9c113a812c3",
   "metadata": {},
   "source": [
    "### building generative model"
   ]
  },
  {
   "cell_type": "code",
   "execution_count": 14,
   "id": "d3e37162-6ed3-4f6f-a291-e2574827b6ab",
   "metadata": {},
   "outputs": [
    {
     "data": {
      "text/html": [
       "<table class=\"dataframe\">\n",
       "<caption>A tibble: 13 × 5</caption>\n",
       "<thead>\n",
       "\t<tr><th scope=col>term</th><th scope=col>estimate</th><th scope=col>std.error</th><th scope=col>statistic</th><th scope=col>p.value</th></tr>\n",
       "\t<tr><th scope=col>&lt;chr&gt;</th><th scope=col>&lt;dbl&gt;</th><th scope=col>&lt;dbl&gt;</th><th scope=col>&lt;dbl&gt;</th><th scope=col>&lt;dbl&gt;</th></tr>\n",
       "</thead>\n",
       "<tbody>\n",
       "\t<tr><td>(Intercept)</td><td>603.97</td><td>45.20</td><td>13.36</td><td>0</td></tr>\n",
       "\t<tr><td>hour       </td><td> 28.69</td><td> 0.75</td><td>38.23</td><td>0</td></tr>\n",
       "\t<tr><td>temperature</td><td> 27.18</td><td> 0.88</td><td>30.77</td><td>0</td></tr>\n",
       "\t<tr><td>⋮</td><td>⋮</td><td>⋮</td><td>⋮</td><td>⋮</td></tr>\n",
       "\t<tr><td>seasonSummer     </td><td>-160.46</td><td>17.38</td><td> -9.23</td><td>0</td></tr>\n",
       "\t<tr><td>seasonWinter     </td><td>-362.48</td><td>19.97</td><td>-18.15</td><td>0</td></tr>\n",
       "\t<tr><td>holidayNo Holiday</td><td> 120.36</td><td>22.35</td><td>  5.39</td><td>0</td></tr>\n",
       "</tbody>\n",
       "</table>\n"
      ],
      "text/latex": [
       "A tibble: 13 × 5\n",
       "\\begin{tabular}{lllll}\n",
       " term & estimate & std.error & statistic & p.value\\\\\n",
       " <chr> & <dbl> & <dbl> & <dbl> & <dbl>\\\\\n",
       "\\hline\n",
       "\t (Intercept) & 603.97 & 45.20 & 13.36 & 0\\\\\n",
       "\t hour        &  28.69 &  0.75 & 38.23 & 0\\\\\n",
       "\t temperature &  27.18 &  0.88 & 30.77 & 0\\\\\n",
       "\t ⋮ & ⋮ & ⋮ & ⋮ & ⋮\\\\\n",
       "\t seasonSummer      & -160.46 & 17.38 &  -9.23 & 0\\\\\n",
       "\t seasonWinter      & -362.48 & 19.97 & -18.15 & 0\\\\\n",
       "\t holidayNo Holiday &  120.36 & 22.35 &   5.39 & 0\\\\\n",
       "\\end{tabular}\n"
      ],
      "text/markdown": [
       "\n",
       "A tibble: 13 × 5\n",
       "\n",
       "| term &lt;chr&gt; | estimate &lt;dbl&gt; | std.error &lt;dbl&gt; | statistic &lt;dbl&gt; | p.value &lt;dbl&gt; |\n",
       "|---|---|---|---|---|\n",
       "| (Intercept) | 603.97 | 45.20 | 13.36 | 0 |\n",
       "| hour        |  28.69 |  0.75 | 38.23 | 0 |\n",
       "| temperature |  27.18 |  0.88 | 30.77 | 0 |\n",
       "| ⋮ | ⋮ | ⋮ | ⋮ | ⋮ |\n",
       "| seasonSummer      | -160.46 | 17.38 |  -9.23 | 0 |\n",
       "| seasonWinter      | -362.48 | 19.97 | -18.15 | 0 |\n",
       "| holidayNo Holiday |  120.36 | 22.35 |   5.39 | 0 |\n",
       "\n"
      ],
      "text/plain": [
       "   term              estimate std.error statistic p.value\n",
       "1  (Intercept)       603.97   45.20     13.36     0      \n",
       "2  hour               28.69    0.75     38.23     0      \n",
       "3  temperature        27.18    0.88     30.77     0      \n",
       "<U+22EE>  <U+22EE>          <U+22EE> <U+22EE>  <U+22EE>  <U+22EE>\n",
       "11 seasonSummer      -160.46  17.38      -9.23    0      \n",
       "12 seasonWinter      -362.48  19.97     -18.15    0      \n",
       "13 holidayNo Holiday  120.36  22.35       5.39    0      "
      ]
     },
     "metadata": {},
     "output_type": "display_data"
    },
    {
     "data": {
      "text/html": [
       "13"
      ],
      "text/latex": [
       "13"
      ],
      "text/markdown": [
       "13"
      ],
      "text/plain": [
       "[1] 13"
      ]
     },
     "metadata": {},
     "output_type": "display_data"
    }
   ],
   "source": [
    "bike_data_4 <- bike_data %>%\n",
    "         select(- c(date,dew_point_temp))\n",
    "\n",
    "MLR_generative <- lm(bike_count~.,bike_data_4)\n",
    "\n",
    "MLR_generative_result <- tidy(MLR_generative) %>% mutate_if(is.numeric, round, 2)\n",
    "MLR_generative_result\n",
    "nrow(MLR_generative_result)"
   ]
  },
  {
   "cell_type": "code",
   "execution_count": 63,
   "id": "152f08ec-1acb-41e1-9d4c-3d7ddcea4f36",
   "metadata": {},
   "outputs": [
    {
     "data": {
      "text/plain": [
       "Subset selection object\n",
       "Call: regsubsets.formula(x = bike_count ~ ., nvmax = 12, data = bike_data_4, \n",
       "    method = \"forward\", )\n",
       "12 Variables  (and intercept)\n",
       "                  Forced in Forced out\n",
       "hour                  FALSE      FALSE\n",
       "temperature           FALSE      FALSE\n",
       "humidity              FALSE      FALSE\n",
       "wind_speed            FALSE      FALSE\n",
       "visibility            FALSE      FALSE\n",
       "radiation             FALSE      FALSE\n",
       "rain                  FALSE      FALSE\n",
       "snow                  FALSE      FALSE\n",
       "seasonSpring          FALSE      FALSE\n",
       "seasonSummer          FALSE      FALSE\n",
       "seasonWinter          FALSE      FALSE\n",
       "holidayNo Holiday     FALSE      FALSE\n",
       "1 subsets of each size up to 12\n",
       "Selection Algorithm: forward"
      ]
     },
     "metadata": {},
     "output_type": "display_data"
    }
   ],
   "source": [
    "bike_forward <- regsubsets(\n",
    "  x=bike_count ~ ., \n",
    "  nvmax=12,\n",
    "  data=bike_data_4,\n",
    "  method=\"forward\",\n",
    ")\n",
    "bike_forward\n",
    "\n",
    "bike_forward_summary <- summary(bike_forward)\n",
    "\n",
    "bike_forward_summary_df <- tibble(\n",
    "   n_input_variables = 1:12,\n",
    "   RSQ = bike_forward_summary$rsq,\n",
    "   RSS = bike_forward_summary$rss,\n",
    "   ADJ.R2 = bike_forward_summary$adjr2\n",
    ")"
   ]
  },
  {
   "cell_type": "code",
   "execution_count": 64,
   "id": "0c38dd4b-9d7b-4c48-badc-a9e47a4b0061",
   "metadata": {},
   "outputs": [
    {
     "data": {
      "text/plain": [
       "Subset selection object\n",
       "Call: regsubsets.formula(x = bike_count ~ ., nvmax = 12, data = bike_data_4, \n",
       "    method = \"forward\", )\n",
       "12 Variables  (and intercept)\n",
       "                  Forced in Forced out\n",
       "hour                  FALSE      FALSE\n",
       "temperature           FALSE      FALSE\n",
       "humidity              FALSE      FALSE\n",
       "wind_speed            FALSE      FALSE\n",
       "visibility            FALSE      FALSE\n",
       "radiation             FALSE      FALSE\n",
       "rain                  FALSE      FALSE\n",
       "snow                  FALSE      FALSE\n",
       "seasonSpring          FALSE      FALSE\n",
       "seasonSummer          FALSE      FALSE\n",
       "seasonWinter          FALSE      FALSE\n",
       "holidayNo Holiday     FALSE      FALSE\n",
       "1 subsets of each size up to 12\n",
       "Selection Algorithm: forward\n",
       "          hour temperature humidity wind_speed visibility radiation rain snow\n",
       "1  ( 1 )  \" \"  \"*\"         \" \"      \" \"        \" \"        \" \"       \" \"  \" \" \n",
       "2  ( 1 )  \"*\"  \"*\"         \" \"      \" \"        \" \"        \" \"       \" \"  \" \" \n",
       "3  ( 1 )  \"*\"  \"*\"         \"*\"      \" \"        \" \"        \" \"       \" \"  \" \" \n",
       "4  ( 1 )  \"*\"  \"*\"         \"*\"      \" \"        \" \"        \" \"       \" \"  \" \" \n",
       "5  ( 1 )  \"*\"  \"*\"         \"*\"      \" \"        \" \"        \" \"       \"*\"  \" \" \n",
       "6  ( 1 )  \"*\"  \"*\"         \"*\"      \" \"        \" \"        \"*\"       \"*\"  \" \" \n",
       "7  ( 1 )  \"*\"  \"*\"         \"*\"      \" \"        \" \"        \"*\"       \"*\"  \" \" \n",
       "8  ( 1 )  \"*\"  \"*\"         \"*\"      \" \"        \" \"        \"*\"       \"*\"  \" \" \n",
       "9  ( 1 )  \"*\"  \"*\"         \"*\"      \" \"        \" \"        \"*\"       \"*\"  \" \" \n",
       "10  ( 1 ) \"*\"  \"*\"         \"*\"      \"*\"        \" \"        \"*\"       \"*\"  \" \" \n",
       "11  ( 1 ) \"*\"  \"*\"         \"*\"      \"*\"        \" \"        \"*\"       \"*\"  \"*\" \n",
       "12  ( 1 ) \"*\"  \"*\"         \"*\"      \"*\"        \"*\"        \"*\"       \"*\"  \"*\" \n",
       "          seasonSpring seasonSummer seasonWinter holidayNo Holiday\n",
       "1  ( 1 )  \" \"          \" \"          \" \"          \" \"              \n",
       "2  ( 1 )  \" \"          \" \"          \" \"          \" \"              \n",
       "3  ( 1 )  \" \"          \" \"          \" \"          \" \"              \n",
       "4  ( 1 )  \" \"          \" \"          \"*\"          \" \"              \n",
       "5  ( 1 )  \" \"          \" \"          \"*\"          \" \"              \n",
       "6  ( 1 )  \" \"          \" \"          \"*\"          \" \"              \n",
       "7  ( 1 )  \"*\"          \" \"          \"*\"          \" \"              \n",
       "8  ( 1 )  \"*\"          \"*\"          \"*\"          \" \"              \n",
       "9  ( 1 )  \"*\"          \"*\"          \"*\"          \"*\"              \n",
       "10  ( 1 ) \"*\"          \"*\"          \"*\"          \"*\"              \n",
       "11  ( 1 ) \"*\"          \"*\"          \"*\"          \"*\"              \n",
       "12  ( 1 ) \"*\"          \"*\"          \"*\"          \"*\"              "
      ]
     },
     "metadata": {},
     "output_type": "display_data"
    },
    {
     "data": {
      "text/html": [
       "<table class=\"dataframe\">\n",
       "<caption>A tibble: 12 × 4</caption>\n",
       "<thead>\n",
       "\t<tr><th scope=col>n_input_variables</th><th scope=col>RSQ</th><th scope=col>RSS</th><th scope=col>ADJ.R2</th></tr>\n",
       "\t<tr><th scope=col>&lt;int&gt;</th><th scope=col>&lt;dbl&gt;</th><th scope=col>&lt;dbl&gt;</th><th scope=col>&lt;dbl&gt;</th></tr>\n",
       "</thead>\n",
       "<tbody>\n",
       "\t<tr><td>1</td><td>0.3166765</td><td>2386420903</td><td>0.3165958</td></tr>\n",
       "\t<tr><td>2</td><td>0.4454842</td><td>1936576319</td><td>0.4453531</td></tr>\n",
       "\t<tr><td>3</td><td>0.4909530</td><td>1777782394</td><td>0.4907725</td></tr>\n",
       "\t<tr><td>⋮</td><td>⋮</td><td>⋮</td><td>⋮</td></tr>\n",
       "\t<tr><td>10</td><td>0.5410271</td><td>1602904957</td><td>0.5404842</td></tr>\n",
       "\t<tr><td>11</td><td>0.5414985</td><td>1601258438</td><td>0.5409019</td></tr>\n",
       "\t<tr><td>12</td><td>0.5415509</td><td>1601075444</td><td>0.5409000</td></tr>\n",
       "</tbody>\n",
       "</table>\n"
      ],
      "text/latex": [
       "A tibble: 12 × 4\n",
       "\\begin{tabular}{llll}\n",
       " n\\_input\\_variables & RSQ & RSS & ADJ.R2\\\\\n",
       " <int> & <dbl> & <dbl> & <dbl>\\\\\n",
       "\\hline\n",
       "\t 1 & 0.3166765 & 2386420903 & 0.3165958\\\\\n",
       "\t 2 & 0.4454842 & 1936576319 & 0.4453531\\\\\n",
       "\t 3 & 0.4909530 & 1777782394 & 0.4907725\\\\\n",
       "\t ⋮ & ⋮ & ⋮ & ⋮\\\\\n",
       "\t 10 & 0.5410271 & 1602904957 & 0.5404842\\\\\n",
       "\t 11 & 0.5414985 & 1601258438 & 0.5409019\\\\\n",
       "\t 12 & 0.5415509 & 1601075444 & 0.5409000\\\\\n",
       "\\end{tabular}\n"
      ],
      "text/markdown": [
       "\n",
       "A tibble: 12 × 4\n",
       "\n",
       "| n_input_variables &lt;int&gt; | RSQ &lt;dbl&gt; | RSS &lt;dbl&gt; | ADJ.R2 &lt;dbl&gt; |\n",
       "|---|---|---|---|\n",
       "| 1 | 0.3166765 | 2386420903 | 0.3165958 |\n",
       "| 2 | 0.4454842 | 1936576319 | 0.4453531 |\n",
       "| 3 | 0.4909530 | 1777782394 | 0.4907725 |\n",
       "| ⋮ | ⋮ | ⋮ | ⋮ |\n",
       "| 10 | 0.5410271 | 1602904957 | 0.5404842 |\n",
       "| 11 | 0.5414985 | 1601258438 | 0.5409019 |\n",
       "| 12 | 0.5415509 | 1601075444 | 0.5409000 |\n",
       "\n"
      ],
      "text/plain": [
       "   n_input_variables RSQ       RSS        ADJ.R2   \n",
       "1  1                 0.3166765 2386420903 0.3165958\n",
       "2  2                 0.4454842 1936576319 0.4453531\n",
       "3  3                 0.4909530 1777782394 0.4907725\n",
       "⋮  ⋮                 ⋮         ⋮          ⋮        \n",
       "10 10                0.5410271 1602904957 0.5404842\n",
       "11 11                0.5414985 1601258438 0.5409019\n",
       "12 12                0.5415509 1601075444 0.5409000"
      ]
     },
     "metadata": {},
     "output_type": "display_data"
    }
   ],
   "source": [
    "bike_forward_summary\n",
    "bike_forward_summary_df\n"
   ]
  },
  {
   "cell_type": "code",
   "execution_count": null,
   "id": "20a85180-0f2c-4aa4-a486-b822777fa6ae",
   "metadata": {},
   "outputs": [],
   "source": []
  },
  {
   "cell_type": "markdown",
   "id": "f58c4710-0f11-40f9-b7c6-104083a577de",
   "metadata": {},
   "source": [
    "## Methods: Plan"
   ]
  },
  {
   "cell_type": "code",
   "execution_count": null,
   "id": "e6a1a6e2-1cea-4e08-b914-4ce2dab61d1b",
   "metadata": {},
   "outputs": [],
   "source": []
  },
  {
   "cell_type": "code",
   "execution_count": null,
   "id": "987088f9-8740-4864-aa0d-3ce923d7c101",
   "metadata": {},
   "outputs": [],
   "source": []
  },
  {
   "cell_type": "markdown",
   "id": "9f812cae-b4d5-4c62-a17a-dec9b92f60df",
   "metadata": {},
   "source": [
    "## References"
   ]
  },
  {
   "cell_type": "code",
   "execution_count": null,
   "id": "5c7464ba-d107-4798-9bcd-bb6f1c5d8410",
   "metadata": {},
   "outputs": [],
   "source": []
  },
  {
   "cell_type": "code",
   "execution_count": null,
   "id": "6089051d-d653-442e-91c6-589cc75a22c4",
   "metadata": {},
   "outputs": [],
   "source": []
  }
 ],
 "metadata": {
  "kernelspec": {
   "display_name": "R",
   "language": "R",
   "name": "ir"
  },
  "language_info": {
   "codemirror_mode": "r",
   "file_extension": ".r",
   "mimetype": "text/x-r-source",
   "name": "R",
   "pygments_lexer": "r",
   "version": "4.1.1"
  }
 },
 "nbformat": 4,
 "nbformat_minor": 5
}
