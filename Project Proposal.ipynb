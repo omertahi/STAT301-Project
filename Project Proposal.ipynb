{
 "cells": [
  {
   "cell_type": "markdown",
   "id": "51291bf3-3a0d-49ca-944c-59157ecd48a1",
   "metadata": {},
   "source": [
    "# Group Proposal"
   ]
  },
  {
   "cell_type": "markdown",
   "id": "56b4b636-a21d-4e3d-9182-c3b9a2ef99a9",
   "metadata": {},
   "source": [
    "#### **Authors:** Linda Huang, Manav Kakar, Omer Tahir, Yuchen Zhang\n",
    "#### **Group:** 2"
   ]
  },
  {
   "cell_type": "markdown",
   "id": "a188d203-0788-4692-bb68-1fb9d66fa200",
   "metadata": {},
   "source": [
    "## Introduction"
   ]
  },
  {
   "cell_type": "markdown",
   "id": "26ef5177-763f-4acb-be35-3628d4522d9f",
   "metadata": {},
   "source": [
    "1. **Relevant background information** on the topic so that someone unfamiliar with it will be prepared to understand the rest of your proposal.\n",
    "\n",
    "2. **Clearly state the question** you will try to answer with your project. Your question should involve one random variable of interest (the response) and one or more explanatory variables. Of the response variable, explain whether your project is focused on prediction, inference, or both.\n",
    "\n",
    "3. **Identify and describe the dataset** that will be used to answer the question. Remember, this dataset is allowed to contain more variables than you need, in fact, exploring how the different variables in the dataset affect your model, is a crucial part of the project.\n",
    "\n",
    "4. Also, be sure to **frame your question/objectives in terms of what is already known in the literature**. Be sure to include at least **two scientific publications** that can help frame your study (you will need to include these in the References section)."
   ]
  },
  {
   "cell_type": "markdown",
   "id": "03b988b5-5da6-44a1-b927-9961b307dd5c",
   "metadata": {},
   "source": [
    "## Preliminary Results"
   ]
  },
  {
   "cell_type": "code",
   "execution_count": 6,
   "id": "f0ed7d49-569a-491f-8bb4-1f875286e526",
   "metadata": {},
   "outputs": [],
   "source": [
    "library(tidyverse)\n",
    "options(repr.matrix.max.rows = 6) #limits output of dataframes to 6 rows"
   ]
  },
  {
   "cell_type": "code",
   "execution_count": 8,
   "id": "b36f7276-93ee-4ed0-aee1-a698fe4f41ea",
   "metadata": {},
   "outputs": [],
   "source": [
    "url <- \"http://archive.ics.uci.edu/ml/machine-learning-databases/00560/SeoulBikeData.csv\"\n",
    "\n",
    "bike_data <- \n",
    "    read.csv(url) |> \n",
    "    filter(Functioning.Day == \"Yes\") |> \n",
    "    select(-Functioning.Day) |> \n",
    "    setNames(c(\"date\",\n",
    "               \"bike_count\",\n",
    "               \"hour\",\n",
    "               \"temperature\",\n",
    "               \"humidity\",\n",
    "               \"wind_speed\",\n",
    "               \"visibility\",\n",
    "               \"dew_point_temp\",\n",
    "               \"radiation\",\n",
    "               \"rain\",\n",
    "               \"snow\",\n",
    "               \"season\",\n",
    "               \"holiday\")) "
   ]
  },
  {
   "cell_type": "code",
   "execution_count": 18,
   "id": "af506a1e-6c3d-48f9-8b1b-da6b6ae25186",
   "metadata": {},
   "outputs": [
    {
     "data": {
      "text/html": [
       "<table class=\"dataframe\">\n",
       "<caption>A data.frame: 6 × 13</caption>\n",
       "<thead>\n",
       "\t<tr><th></th><th scope=col>date</th><th scope=col>bike_count</th><th scope=col>hour</th><th scope=col>temperature</th><th scope=col>humidity</th><th scope=col>wind_speed</th><th scope=col>visibility</th><th scope=col>dew_point_temp</th><th scope=col>radiation</th><th scope=col>rain</th><th scope=col>snow</th><th scope=col>season</th><th scope=col>holiday</th></tr>\n",
       "\t<tr><th></th><th scope=col>&lt;chr&gt;</th><th scope=col>&lt;int&gt;</th><th scope=col>&lt;int&gt;</th><th scope=col>&lt;dbl&gt;</th><th scope=col>&lt;int&gt;</th><th scope=col>&lt;dbl&gt;</th><th scope=col>&lt;int&gt;</th><th scope=col>&lt;dbl&gt;</th><th scope=col>&lt;dbl&gt;</th><th scope=col>&lt;dbl&gt;</th><th scope=col>&lt;dbl&gt;</th><th scope=col>&lt;chr&gt;</th><th scope=col>&lt;chr&gt;</th></tr>\n",
       "</thead>\n",
       "<tbody>\n",
       "\t<tr><th scope=row>1</th><td>01/12/2017</td><td>254</td><td>0</td><td>-5.2</td><td>37</td><td>2.2</td><td>2000</td><td>-17.6</td><td>0</td><td>0</td><td>0</td><td>Winter</td><td>No Holiday</td></tr>\n",
       "\t<tr><th scope=row>2</th><td>01/12/2017</td><td>204</td><td>1</td><td>-5.5</td><td>38</td><td>0.8</td><td>2000</td><td>-17.6</td><td>0</td><td>0</td><td>0</td><td>Winter</td><td>No Holiday</td></tr>\n",
       "\t<tr><th scope=row>3</th><td>01/12/2017</td><td>173</td><td>2</td><td>-6.0</td><td>39</td><td>1.0</td><td>2000</td><td>-17.7</td><td>0</td><td>0</td><td>0</td><td>Winter</td><td>No Holiday</td></tr>\n",
       "\t<tr><th scope=row>4</th><td>01/12/2017</td><td>107</td><td>3</td><td>-6.2</td><td>40</td><td>0.9</td><td>2000</td><td>-17.6</td><td>0</td><td>0</td><td>0</td><td>Winter</td><td>No Holiday</td></tr>\n",
       "\t<tr><th scope=row>5</th><td>01/12/2017</td><td> 78</td><td>4</td><td>-6.0</td><td>36</td><td>2.3</td><td>2000</td><td>-18.6</td><td>0</td><td>0</td><td>0</td><td>Winter</td><td>No Holiday</td></tr>\n",
       "\t<tr><th scope=row>6</th><td>01/12/2017</td><td>100</td><td>5</td><td>-6.4</td><td>37</td><td>1.5</td><td>2000</td><td>-18.7</td><td>0</td><td>0</td><td>0</td><td>Winter</td><td>No Holiday</td></tr>\n",
       "</tbody>\n",
       "</table>\n"
      ],
      "text/latex": [
       "A data.frame: 6 × 13\n",
       "\\begin{tabular}{r|lllllllllllll}\n",
       "  & date & bike\\_count & hour & temperature & humidity & wind\\_speed & visibility & dew\\_point\\_temp & radiation & rain & snow & season & holiday\\\\\n",
       "  & <chr> & <int> & <int> & <dbl> & <int> & <dbl> & <int> & <dbl> & <dbl> & <dbl> & <dbl> & <chr> & <chr>\\\\\n",
       "\\hline\n",
       "\t1 & 01/12/2017 & 254 & 0 & -5.2 & 37 & 2.2 & 2000 & -17.6 & 0 & 0 & 0 & Winter & No Holiday\\\\\n",
       "\t2 & 01/12/2017 & 204 & 1 & -5.5 & 38 & 0.8 & 2000 & -17.6 & 0 & 0 & 0 & Winter & No Holiday\\\\\n",
       "\t3 & 01/12/2017 & 173 & 2 & -6.0 & 39 & 1.0 & 2000 & -17.7 & 0 & 0 & 0 & Winter & No Holiday\\\\\n",
       "\t4 & 01/12/2017 & 107 & 3 & -6.2 & 40 & 0.9 & 2000 & -17.6 & 0 & 0 & 0 & Winter & No Holiday\\\\\n",
       "\t5 & 01/12/2017 &  78 & 4 & -6.0 & 36 & 2.3 & 2000 & -18.6 & 0 & 0 & 0 & Winter & No Holiday\\\\\n",
       "\t6 & 01/12/2017 & 100 & 5 & -6.4 & 37 & 1.5 & 2000 & -18.7 & 0 & 0 & 0 & Winter & No Holiday\\\\\n",
       "\\end{tabular}\n"
      ],
      "text/markdown": [
       "\n",
       "A data.frame: 6 × 13\n",
       "\n",
       "| <!--/--> | date &lt;chr&gt; | bike_count &lt;int&gt; | hour &lt;int&gt; | temperature &lt;dbl&gt; | humidity &lt;int&gt; | wind_speed &lt;dbl&gt; | visibility &lt;int&gt; | dew_point_temp &lt;dbl&gt; | radiation &lt;dbl&gt; | rain &lt;dbl&gt; | snow &lt;dbl&gt; | season &lt;chr&gt; | holiday &lt;chr&gt; |\n",
       "|---|---|---|---|---|---|---|---|---|---|---|---|---|---|\n",
       "| 1 | 01/12/2017 | 254 | 0 | -5.2 | 37 | 2.2 | 2000 | -17.6 | 0 | 0 | 0 | Winter | No Holiday |\n",
       "| 2 | 01/12/2017 | 204 | 1 | -5.5 | 38 | 0.8 | 2000 | -17.6 | 0 | 0 | 0 | Winter | No Holiday |\n",
       "| 3 | 01/12/2017 | 173 | 2 | -6.0 | 39 | 1.0 | 2000 | -17.7 | 0 | 0 | 0 | Winter | No Holiday |\n",
       "| 4 | 01/12/2017 | 107 | 3 | -6.2 | 40 | 0.9 | 2000 | -17.6 | 0 | 0 | 0 | Winter | No Holiday |\n",
       "| 5 | 01/12/2017 |  78 | 4 | -6.0 | 36 | 2.3 | 2000 | -18.6 | 0 | 0 | 0 | Winter | No Holiday |\n",
       "| 6 | 01/12/2017 | 100 | 5 | -6.4 | 37 | 1.5 | 2000 | -18.7 | 0 | 0 | 0 | Winter | No Holiday |\n",
       "\n"
      ],
      "text/plain": [
       "  date       bike_count hour temperature humidity wind_speed visibility\n",
       "1 01/12/2017 254        0    -5.2        37       2.2        2000      \n",
       "2 01/12/2017 204        1    -5.5        38       0.8        2000      \n",
       "3 01/12/2017 173        2    -6.0        39       1.0        2000      \n",
       "4 01/12/2017 107        3    -6.2        40       0.9        2000      \n",
       "5 01/12/2017  78        4    -6.0        36       2.3        2000      \n",
       "6 01/12/2017 100        5    -6.4        37       1.5        2000      \n",
       "  dew_point_temp radiation rain snow season holiday   \n",
       "1 -17.6          0         0    0    Winter No Holiday\n",
       "2 -17.6          0         0    0    Winter No Holiday\n",
       "3 -17.7          0         0    0    Winter No Holiday\n",
       "4 -17.6          0         0    0    Winter No Holiday\n",
       "5 -18.6          0         0    0    Winter No Holiday\n",
       "6 -18.7          0         0    0    Winter No Holiday"
      ]
     },
     "metadata": {},
     "output_type": "display_data"
    }
   ],
   "source": [
    "View(head(bike_data))"
   ]
  },
  {
   "cell_type": "markdown",
   "id": "f58c4710-0f11-40f9-b7c6-104083a577de",
   "metadata": {},
   "source": [
    "## Methods: Plan"
   ]
  },
  {
   "cell_type": "code",
   "execution_count": null,
   "id": "987088f9-8740-4864-aa0d-3ce923d7c101",
   "metadata": {},
   "outputs": [],
   "source": []
  },
  {
   "cell_type": "markdown",
   "id": "9f812cae-b4d5-4c62-a17a-dec9b92f60df",
   "metadata": {},
   "source": [
    "## References"
   ]
  },
  {
   "cell_type": "code",
   "execution_count": null,
   "id": "5c7464ba-d107-4798-9bcd-bb6f1c5d8410",
   "metadata": {},
   "outputs": [],
   "source": []
  },
  {
   "cell_type": "code",
   "execution_count": null,
   "id": "6089051d-d653-442e-91c6-589cc75a22c4",
   "metadata": {},
   "outputs": [],
   "source": []
  }
 ],
 "metadata": {
  "kernelspec": {
   "display_name": "R",
   "language": "R",
   "name": "ir"
  },
  "language_info": {
   "codemirror_mode": "r",
   "file_extension": ".r",
   "mimetype": "text/x-r-source",
   "name": "R",
   "pygments_lexer": "r",
   "version": "4.1.1"
  }
 },
 "nbformat": 4,
 "nbformat_minor": 5
}
