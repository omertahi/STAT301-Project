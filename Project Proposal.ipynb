{
 "cells": [
  {
   "cell_type": "markdown",
   "id": "51291bf3-3a0d-49ca-944c-59157ecd48a1",
   "metadata": {},
   "source": [
    "# Group Proposal"
   ]
  },
  {
   "cell_type": "markdown",
   "id": "56b4b636-a21d-4e3d-9182-c3b9a2ef99a9",
   "metadata": {},
   "source": [
    "#### **Authors:** Linda Huang, Manav Kakar, Omer Tahir, Yuchen Zhang\n",
    "#### **Group:** 2"
   ]
  },
  {
   "cell_type": "markdown",
   "id": "a188d203-0788-4692-bb68-1fb9d66fa200",
   "metadata": {},
   "source": [
    "## Introduction"
   ]
  },
  {
   "cell_type": "markdown",
   "id": "26ef5177-763f-4acb-be35-3628d4522d9f",
   "metadata": {},
   "source": [
    "1. **Relevant background information** on the topic so that someone unfamiliar with it will be prepared to understand the rest of your proposal.\n",
    "\n",
    "2. **Clearly state the question** you will try to answer with your project. Your question should involve one random variable of interest (the response) and one or more explanatory variables. Of the response variable, explain whether your project is focused on prediction, inference, or both.\n",
    "\n",
    "3. **Identify and describe the dataset** that will be used to answer the question. Remember, this dataset is allowed to contain more variables than you need, in fact, exploring how the different variables in the dataset affect your model, is a crucial part of the project.\n",
    "\n",
    "4. Also, be sure to **frame your question/objectives in terms of what is already known in the literature**. Be sure to include at least **two scientific publications** that can help frame your study (you will need to include these in the References section)."
   ]
  },
  {
   "cell_type": "markdown",
   "id": "03b988b5-5da6-44a1-b927-9961b307dd5c",
   "metadata": {},
   "source": [
    "## Preliminary Results"
   ]
  },
  {
   "cell_type": "code",
   "execution_count": null,
   "id": "b36f7276-93ee-4ed0-aee1-a698fe4f41ea",
   "metadata": {},
   "outputs": [],
   "source": []
  },
  {
   "cell_type": "markdown",
   "id": "f58c4710-0f11-40f9-b7c6-104083a577de",
   "metadata": {},
   "source": [
    "## Methods: Plan"
   ]
  },
  {
   "cell_type": "code",
   "execution_count": null,
   "id": "987088f9-8740-4864-aa0d-3ce923d7c101",
   "metadata": {},
   "outputs": [],
   "source": []
  },
  {
   "cell_type": "markdown",
   "id": "9f812cae-b4d5-4c62-a17a-dec9b92f60df",
   "metadata": {},
   "source": [
    "## References"
   ]
  },
  {
   "cell_type": "code",
   "execution_count": null,
   "id": "5c7464ba-d107-4798-9bcd-bb6f1c5d8410",
   "metadata": {},
   "outputs": [],
   "source": []
  },
  {
   "cell_type": "code",
   "execution_count": null,
   "id": "6089051d-d653-442e-91c6-589cc75a22c4",
   "metadata": {},
   "outputs": [],
   "source": []
  }
 ],
 "metadata": {
  "kernelspec": {
   "display_name": "R",
   "language": "R",
   "name": "ir"
  },
  "language_info": {
   "codemirror_mode": "r",
   "file_extension": ".r",
   "mimetype": "text/x-r-source",
   "name": "R",
   "pygments_lexer": "r",
   "version": "4.1.1"
  }
 },
 "nbformat": 4,
 "nbformat_minor": 5
}
