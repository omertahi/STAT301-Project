{
 "cells": [
  {
   "cell_type": "markdown",
   "id": "0e0c33df-7010-4e00-ab73-7f4cd60eb83e",
   "metadata": {},
   "source": [
    "# Stuff to be added to Final Report"
   ]
  },
  {
   "cell_type": "code",
   "execution_count": 5,
   "id": "5c6ae2e8-73b5-444f-8a23-149b5b34f93d",
   "metadata": {},
   "outputs": [
    {
     "name": "stderr",
     "output_type": "stream",
     "text": [
      "Warning message:\n",
      "\"package 'ggcorrplot' was built under R version 4.1.3\"\n"
     ]
    }
   ],
   "source": [
    "library(tidyverse)\n",
    "library(ggcorrplot)\n",
    "library(broom)\n",
    "library(repr)\n",
    "library(digest)\n",
    "library(infer)\n",
    "library(gridExtra)\n",
    "library(faraway)\n",
    "library(mltools)\n",
    "library(leaps)\n",
    "library(glmnet)\n",
    "library(cowplot)\n",
    "\n",
    "options(repr.matrix.max.rows = 6) #limits output of dataframes to 6 rows"
   ]
  },
  {
   "cell_type": "code",
   "execution_count": 18,
   "id": "09f77f7f-ef1e-4ac1-b757-4c4094536ee7",
   "metadata": {},
   "outputs": [],
   "source": [
    "url <- \"http://archive.ics.uci.edu/ml/machine-learning-databases/00560/SeoulBikeData.csv\"\n",
    "\n",
    "bike_data <- \n",
    "#read.csv(\"data/SeoulBikeData.csv\") |>\n",
    "    read.csv(url, encoding = 'utf-8') |>\n",
    "    setNames(c(\"date\",\n",
    "               \"bike_count\",\n",
    "               \"hour\",\n",
    "               \"temperature\",\n",
    "               \"humidity\",\n",
    "               \"wind_speed\",\n",
    "               \"visibility\",\n",
    "               \"dew_point_temp\",\n",
    "               \"radiation\",\n",
    "               \"rain\",\n",
    "               \"snow\",\n",
    "               \"season\",\n",
    "               \"holiday\",\n",
    "               \"functional_day\")) |>\n",
    "    filter(functional_day == \"Yes\") |>\n",
    "    select(-functional_day) "
   ]
  },
  {
   "cell_type": "code",
   "execution_count": null,
   "id": "ff62f339-7925-4e37-9550-ebb3a9517857",
   "metadata": {},
   "outputs": [],
   "source": []
  },
  {
   "cell_type": "code",
   "execution_count": null,
   "id": "a410654c-ced5-43cf-92f5-56983de32c7a",
   "metadata": {},
   "outputs": [],
   "source": []
  },
  {
   "cell_type": "code",
   "execution_count": null,
   "id": "d503f62e-d86a-4591-946b-725098cec715",
   "metadata": {},
   "outputs": [],
   "source": []
  },
  {
   "cell_type": "code",
   "execution_count": null,
   "id": "eb7e0d05-f2f9-4645-b432-1388fc0a215a",
   "metadata": {},
   "outputs": [],
   "source": []
  },
  {
   "cell_type": "code",
   "execution_count": null,
   "id": "9b13e634-a361-4b06-aa0e-f2534063029e",
   "metadata": {},
   "outputs": [],
   "source": []
  },
  {
   "cell_type": "markdown",
   "id": "17a3ed2b-1ac6-4b1a-be4c-a31dd5f9af34",
   "metadata": {},
   "source": [
    "#### 2.3.1 Multicollinearity"
   ]
  },
  {
   "cell_type": "markdown",
   "id": "baef8ebc-df04-474a-98fe-d683b75b222e",
   "metadata": {},
   "source": [
    "* In general, an absolute correlation coefficient of >0.7 among two or more predictors indicates the presence of multicollinearity.\n",
    "* This suggests that the variables `dew_point_temp` and `temp` are indicating the presence of multicollinearity since they have a very high correlation of 0.91.\n",
    "* To help us decide which of these 2 variables we should ommit from our analyses later on, we use the Variation Inflation Factor (VIF) method."
   ]
  },
  {
   "cell_type": "code",
   "execution_count": 22,
   "id": "fb2961a1-b266-43c5-a0a6-5a59fd4d4785",
   "metadata": {},
   "outputs": [
    {
     "data": {
      "text/html": [
       "<style>\n",
       ".dl-inline {width: auto; margin:0; padding: 0}\n",
       ".dl-inline>dt, .dl-inline>dd {float: none; width: auto; display: inline-block}\n",
       ".dl-inline>dt::after {content: \":\\0020\"; padding-right: .5ex}\n",
       ".dl-inline>dt:not(:first-of-type) {padding-left: .5ex}\n",
       "</style><dl class=dl-inline><dt>hour</dt><dd>1.18</dd><dt>temperature</dt><dd>87.644</dd><dt>humidity</dt><dd>20.163</dd><dt>wind_speed</dt><dd>1.274</dd><dt>visibility</dt><dd>1.575</dd><dt>dew_point_temp</dt><dd>116.462</dd><dt>radiation</dt><dd>2.011</dd><dt>rain</dt><dd>1.084</dd><dt>snow</dt><dd>1.096</dd></dl>\n"
      ],
      "text/latex": [
       "\\begin{description*}\n",
       "\\item[hour] 1.18\n",
       "\\item[temperature] 87.644\n",
       "\\item[humidity] 20.163\n",
       "\\item[wind\\textbackslash{}\\_speed] 1.274\n",
       "\\item[visibility] 1.575\n",
       "\\item[dew\\textbackslash{}\\_point\\textbackslash{}\\_temp] 116.462\n",
       "\\item[radiation] 2.011\n",
       "\\item[rain] 1.084\n",
       "\\item[snow] 1.096\n",
       "\\end{description*}\n"
      ],
      "text/markdown": [
       "hour\n",
       ":   1.18temperature\n",
       ":   87.644humidity\n",
       ":   20.163wind_speed\n",
       ":   1.274visibility\n",
       ":   1.575dew_point_temp\n",
       ":   116.462radiation\n",
       ":   2.011rain\n",
       ":   1.084snow\n",
       ":   1.096\n",
       "\n"
      ],
      "text/plain": [
       "          hour    temperature       humidity     wind_speed     visibility \n",
       "         1.180         87.644         20.163          1.274          1.575 \n",
       "dew_point_temp      radiation           rain           snow \n",
       "       116.462          2.011          1.084          1.096 "
      ]
     },
     "metadata": {},
     "output_type": "display_data"
    }
   ],
   "source": [
    "VIF_MLR_bike <- \n",
    "    bike_data %>%\n",
    "    select(-c(date, season, holiday)) %>%\n",
    "    lm(bike_count ~ ., data = .) %>%\n",
    "    vif() %>%\n",
    "    round(3)\n",
    "\n",
    "VIF_MLR_bike"
   ]
  },
  {
   "cell_type": "markdown",
   "id": "a711fa62-fb09-45a4-8b3f-5a8954fcbd90",
   "metadata": {},
   "source": [
    "* James et al. (2013) in [*An Introduction to Statistical Learning*](https://www.statlearning.com/) indicate that, as a rule of thumb, a VIF value that exceeds 5 or 10 is an indicator of a  multicollinearity problem.\n",
    "* We can clearly see that `dew_point_temp` has an extremely high VIF value of 116.46 therefore we decide to ommit it and see how the other VIFs are effected."
   ]
  },
  {
   "cell_type": "code",
   "execution_count": 24,
   "id": "a09c2a55-3390-44de-ab20-f9b7d15ab22a",
   "metadata": {},
   "outputs": [
    {
     "data": {
      "text/html": [
       "<style>\n",
       ".dl-inline {width: auto; margin:0; padding: 0}\n",
       ".dl-inline>dt, .dl-inline>dd {float: none; width: auto; display: inline-block}\n",
       ".dl-inline>dt::after {content: \":\\0020\"; padding-right: .5ex}\n",
       ".dl-inline>dt:not(:first-of-type) {padding-left: .5ex}\n",
       "</style><dl class=dl-inline><dt>hour</dt><dd>1.178</dd><dt>temperature</dt><dd>1.629</dd><dt>humidity</dt><dd>2.533</dd><dt>wind_speed</dt><dd>1.272</dd><dt>visibility</dt><dd>1.564</dd><dt>radiation</dt><dd>1.911</dd><dt>rain</dt><dd>1.071</dd><dt>snow</dt><dd>1.091</dd></dl>\n"
      ],
      "text/latex": [
       "\\begin{description*}\n",
       "\\item[hour] 1.178\n",
       "\\item[temperature] 1.629\n",
       "\\item[humidity] 2.533\n",
       "\\item[wind\\textbackslash{}\\_speed] 1.272\n",
       "\\item[visibility] 1.564\n",
       "\\item[radiation] 1.911\n",
       "\\item[rain] 1.071\n",
       "\\item[snow] 1.091\n",
       "\\end{description*}\n"
      ],
      "text/markdown": [
       "hour\n",
       ":   1.178temperature\n",
       ":   1.629humidity\n",
       ":   2.533wind_speed\n",
       ":   1.272visibility\n",
       ":   1.564radiation\n",
       ":   1.911rain\n",
       ":   1.071snow\n",
       ":   1.091\n",
       "\n"
      ],
      "text/plain": [
       "       hour temperature    humidity  wind_speed  visibility   radiation \n",
       "      1.178       1.629       2.533       1.272       1.564       1.911 \n",
       "       rain        snow \n",
       "      1.071       1.091 "
      ]
     },
     "metadata": {},
     "output_type": "display_data"
    }
   ],
   "source": [
    "VIF_MLR_bike <- \n",
    "    bike_data %>%\n",
    "    select(-c(date, season, holiday, dew_point_temp)) %>%\n",
    "    lm(bike_count ~ ., data = .) %>%\n",
    "    vif() %>%\n",
    "    round(3)\n",
    "\n",
    "VIF_MLR_bike"
   ]
  },
  {
   "cell_type": "markdown",
   "id": "c1dd4290-b17d-4c6d-9321-b8b769d64f66",
   "metadata": {},
   "source": [
    "* It is clear that `dew_point_temp` was creating multicollinearity thus we have decided to ommit it from any further analyses."
   ]
  },
  {
   "cell_type": "markdown",
   "id": "e2eafe5a-f985-4387-93e9-934160ec940a",
   "metadata": {
    "tags": []
   },
   "source": [
    "#### 2.3.2 Confounders and Causality"
   ]
  },
  {
   "cell_type": "markdown",
   "id": "e2000c43-c066-4dff-954c-b9efba43f68f",
   "metadata": {},
   "source": [
    "* We also suspect the categorical variable `season` to be a confounding factor in our data.\n",
    "* This is because when choosing `bike_count` as our response variable $Y$ and `humidity` as our input variables $X$, we have reason to believe that including  another input variable `season` confounds the $X$-$Y$ relationship if `season` and `humidity` are associated, and `season` and `bike_count` are associated.\n",
    "* To analyze this, we will contruct a boxplot with `bike_counts` on the $y$-axis and `season` on the $x$-axis."
   ]
  },
  {
   "cell_type": "code",
   "execution_count": 27,
   "id": "2df6a674-ea68-4755-9641-4891eab9977d",
   "metadata": {},
   "outputs": [
    {
     "data": {
      "image/png": "[encoded data removed]",
      "text/plain": [
       "plot without title"
      ]
     },
     "metadata": {
      "image/png": {
       "height": 360,
       "width": 600
      }
     },
     "output_type": "display_data"
    }
   ],
   "source": [
    "options(repr.plot.width = 10, repr.plot.height = 6)\n",
    "\n",
    "bike_data |> \n",
    "select(bike_count, season, rain) |> \n",
    "ggplot(aes(x = season, y = bike_count)) + \n",
    "geom_boxplot()"
   ]
  },
  {
   "cell_type": "code",
   "execution_count": 39,
   "id": "eea4442b-3965-45a7-828b-2f0d38e30904",
   "metadata": {},
   "outputs": [
    {
     "data": {
      "image/png": "[encoded data removed]",
      "text/plain": [
       "plot without title"
      ]
     },
     "metadata": {
      "image/png": {
       "height": 360,
       "width": 600
      }
     },
     "output_type": "display_data"
    }
   ],
   "source": [
    "bike_data |> \n",
    "select(bike_count, season, humidity) |> \n",
    "ggplot(aes(x = humidity, y = bike_count)) + \n",
    "geom_bar(aes(fill = season), stat = \"identity\")"
   ]
  },
  {
   "cell_type": "markdown",
   "id": "9dd5241a-9235-44dc-b267-a98d09b4ad9b",
   "metadata": {},
   "source": [
    "### building generative model"
   ]
  },
  {
   "cell_type": "code",
   "execution_count": 14,
   "id": "582ee3ff-2b6c-4a5e-af71-b9a7eb9ad4b3",
   "metadata": {},
   "outputs": [
    {
     "data": {
      "text/html": [
       "<table class=\"dataframe\">\n",
       "<caption>A tibble: 13 × 5</caption>\n",
       "<thead>\n",
       "\t<tr><th scope=col>term</th><th scope=col>estimate</th><th scope=col>std.error</th><th scope=col>statistic</th><th scope=col>p.value</th></tr>\n",
       "\t<tr><th scope=col>&lt;chr&gt;</th><th scope=col>&lt;dbl&gt;</th><th scope=col>&lt;dbl&gt;</th><th scope=col>&lt;dbl&gt;</th><th scope=col>&lt;dbl&gt;</th></tr>\n",
       "</thead>\n",
       "<tbody>\n",
       "\t<tr><td>(Intercept)</td><td>603.97</td><td>45.20</td><td>13.36</td><td>0</td></tr>\n",
       "\t<tr><td>hour       </td><td> 28.69</td><td> 0.75</td><td>38.23</td><td>0</td></tr>\n",
       "\t<tr><td>temperature</td><td> 27.18</td><td> 0.88</td><td>30.77</td><td>0</td></tr>\n",
       "\t<tr><td>⋮</td><td>⋮</td><td>⋮</td><td>⋮</td><td>⋮</td></tr>\n",
       "\t<tr><td>seasonSummer     </td><td>-160.46</td><td>17.38</td><td> -9.23</td><td>0</td></tr>\n",
       "\t<tr><td>seasonWinter     </td><td>-362.48</td><td>19.97</td><td>-18.15</td><td>0</td></tr>\n",
       "\t<tr><td>holidayNo Holiday</td><td> 120.36</td><td>22.35</td><td>  5.39</td><td>0</td></tr>\n",
       "</tbody>\n",
       "</table>\n"
      ],
      "text/latex": [
       "A tibble: 13 × 5\n",
       "\\begin{tabular}{lllll}\n",
       " term & estimate & std.error & statistic & p.value\\\\\n",
       " <chr> & <dbl> & <dbl> & <dbl> & <dbl>\\\\\n",
       "\\hline\n",
       "\t (Intercept) & 603.97 & 45.20 & 13.36 & 0\\\\\n",
       "\t hour        &  28.69 &  0.75 & 38.23 & 0\\\\\n",
       "\t temperature &  27.18 &  0.88 & 30.77 & 0\\\\\n",
       "\t ⋮ & ⋮ & ⋮ & ⋮ & ⋮\\\\\n",
       "\t seasonSummer      & -160.46 & 17.38 &  -9.23 & 0\\\\\n",
       "\t seasonWinter      & -362.48 & 19.97 & -18.15 & 0\\\\\n",
       "\t holidayNo Holiday &  120.36 & 22.35 &   5.39 & 0\\\\\n",
       "\\end{tabular}\n"
      ],
      "text/markdown": [
       "\n",
       "A tibble: 13 × 5\n",
       "\n",
       "| term &lt;chr&gt; | estimate &lt;dbl&gt; | std.error &lt;dbl&gt; | statistic &lt;dbl&gt; | p.value &lt;dbl&gt; |\n",
       "|---|---|---|---|---|\n",
       "| (Intercept) | 603.97 | 45.20 | 13.36 | 0 |\n",
       "| hour        |  28.69 |  0.75 | 38.23 | 0 |\n",
       "| temperature |  27.18 |  0.88 | 30.77 | 0 |\n",
       "| ⋮ | ⋮ | ⋮ | ⋮ | ⋮ |\n",
       "| seasonSummer      | -160.46 | 17.38 |  -9.23 | 0 |\n",
       "| seasonWinter      | -362.48 | 19.97 | -18.15 | 0 |\n",
       "| holidayNo Holiday |  120.36 | 22.35 |   5.39 | 0 |\n",
       "\n"
      ],
      "text/plain": [
       "   term              estimate std.error statistic p.value\n",
       "1  (Intercept)       603.97   45.20     13.36     0      \n",
       "2  hour               28.69    0.75     38.23     0      \n",
       "3  temperature        27.18    0.88     30.77     0      \n",
       "<U+22EE>  <U+22EE>          <U+22EE> <U+22EE>  <U+22EE>  <U+22EE>\n",
       "11 seasonSummer      -160.46  17.38      -9.23    0      \n",
       "12 seasonWinter      -362.48  19.97     -18.15    0      \n",
       "13 holidayNo Holiday  120.36  22.35       5.39    0      "
      ]
     },
     "metadata": {},
     "output_type": "display_data"
    },
    {
     "data": {
      "text/html": [
       "13"
      ],
      "text/latex": [
       "13"
      ],
      "text/markdown": [
       "13"
      ],
      "text/plain": [
       "[1] 13"
      ]
     },
     "metadata": {},
     "output_type": "display_data"
    }
   ],
   "source": [
    "bike_data_4 <- bike_data %>%\n",
    "         select(- c(date,dew_point_temp))\n",
    "\n",
    "MLR_generative <- lm(bike_count~.,bike_data_4)\n",
    "\n",
    "MLR_generative_result <- tidy(MLR_generative) %>% mutate_if(is.numeric, round, 2)\n",
    "MLR_generative_result\n",
    "nrow(MLR_generative_result)"
   ]
  },
  {
   "cell_type": "code",
   "execution_count": 63,
   "id": "ef1aad4e-bb97-4ee2-8862-988075c61ae3",
   "metadata": {},
   "outputs": [
    {
     "data": {
      "text/plain": [
       "Subset selection object\n",
       "Call: regsubsets.formula(x = bike_count ~ ., nvmax = 12, data = bike_data_4, \n",
       "    method = \"forward\", )\n",
       "12 Variables  (and intercept)\n",
       "                  Forced in Forced out\n",
       "hour                  FALSE      FALSE\n",
       "temperature           FALSE      FALSE\n",
       "humidity              FALSE      FALSE\n",
       "wind_speed            FALSE      FALSE\n",
       "visibility            FALSE      FALSE\n",
       "radiation             FALSE      FALSE\n",
       "rain                  FALSE      FALSE\n",
       "snow                  FALSE      FALSE\n",
       "seasonSpring          FALSE      FALSE\n",
       "seasonSummer          FALSE      FALSE\n",
       "seasonWinter          FALSE      FALSE\n",
       "holidayNo Holiday     FALSE      FALSE\n",
       "1 subsets of each size up to 12\n",
       "Selection Algorithm: forward"
      ]
     },
     "metadata": {},
     "output_type": "display_data"
    }
   ],
   "source": [
    "bike_forward <- regsubsets(\n",
    "  x=bike_count ~ ., \n",
    "  nvmax=12,\n",
    "  data=bike_data_4,\n",
    "  method=\"forward\",\n",
    ")\n",
    "bike_forward\n",
    "\n",
    "bike_forward_summary <- summary(bike_forward)\n",
    "\n",
    "bike_forward_summary_df <- tibble(\n",
    "   n_input_variables = 1:12,\n",
    "   RSQ = bike_forward_summary$rsq,\n",
    "   RSS = bike_forward_summary$rss,\n",
    "   ADJ.R2 = bike_forward_summary$adjr2\n",
    ")"
   ]
  },
  {
   "cell_type": "code",
   "execution_count": 64,
   "id": "eb5f99ec-2b2f-4d56-a784-531487e0e0ab",
   "metadata": {},
   "outputs": [
    {
     "data": {
      "text/plain": [
       "Subset selection object\n",
       "Call: regsubsets.formula(x = bike_count ~ ., nvmax = 12, data = bike_data_4, \n",
       "    method = \"forward\", )\n",
       "12 Variables  (and intercept)\n",
       "                  Forced in Forced out\n",
       "hour                  FALSE      FALSE\n",
       "temperature           FALSE      FALSE\n",
       "humidity              FALSE      FALSE\n",
       "wind_speed            FALSE      FALSE\n",
       "visibility            FALSE      FALSE\n",
       "radiation             FALSE      FALSE\n",
       "rain                  FALSE      FALSE\n",
       "snow                  FALSE      FALSE\n",
       "seasonSpring          FALSE      FALSE\n",
       "seasonSummer          FALSE      FALSE\n",
       "seasonWinter          FALSE      FALSE\n",
       "holidayNo Holiday     FALSE      FALSE\n",
       "1 subsets of each size up to 12\n",
       "Selection Algorithm: forward\n",
       "          hour temperature humidity wind_speed visibility radiation rain snow\n",
       "1  ( 1 )  \" \"  \"*\"         \" \"      \" \"        \" \"        \" \"       \" \"  \" \" \n",
       "2  ( 1 )  \"*\"  \"*\"         \" \"      \" \"        \" \"        \" \"       \" \"  \" \" \n",
       "3  ( 1 )  \"*\"  \"*\"         \"*\"      \" \"        \" \"        \" \"       \" \"  \" \" \n",
       "4  ( 1 )  \"*\"  \"*\"         \"*\"      \" \"        \" \"        \" \"       \" \"  \" \" \n",
       "5  ( 1 )  \"*\"  \"*\"         \"*\"      \" \"        \" \"        \" \"       \"*\"  \" \" \n",
       "6  ( 1 )  \"*\"  \"*\"         \"*\"      \" \"        \" \"        \"*\"       \"*\"  \" \" \n",
       "7  ( 1 )  \"*\"  \"*\"         \"*\"      \" \"        \" \"        \"*\"       \"*\"  \" \" \n",
       "8  ( 1 )  \"*\"  \"*\"         \"*\"      \" \"        \" \"        \"*\"       \"*\"  \" \" \n",
       "9  ( 1 )  \"*\"  \"*\"         \"*\"      \" \"        \" \"        \"*\"       \"*\"  \" \" \n",
       "10  ( 1 ) \"*\"  \"*\"         \"*\"      \"*\"        \" \"        \"*\"       \"*\"  \" \" \n",
       "11  ( 1 ) \"*\"  \"*\"         \"*\"      \"*\"        \" \"        \"*\"       \"*\"  \"*\" \n",
       "12  ( 1 ) \"*\"  \"*\"         \"*\"      \"*\"        \"*\"        \"*\"       \"*\"  \"*\" \n",
       "          seasonSpring seasonSummer seasonWinter holidayNo Holiday\n",
       "1  ( 1 )  \" \"          \" \"          \" \"          \" \"              \n",
       "2  ( 1 )  \" \"          \" \"          \" \"          \" \"              \n",
       "3  ( 1 )  \" \"          \" \"          \" \"          \" \"              \n",
       "4  ( 1 )  \" \"          \" \"          \"*\"          \" \"              \n",
       "5  ( 1 )  \" \"          \" \"          \"*\"          \" \"              \n",
       "6  ( 1 )  \" \"          \" \"          \"*\"          \" \"              \n",
       "7  ( 1 )  \"*\"          \" \"          \"*\"          \" \"              \n",
       "8  ( 1 )  \"*\"          \"*\"          \"*\"          \" \"              \n",
       "9  ( 1 )  \"*\"          \"*\"          \"*\"          \"*\"              \n",
       "10  ( 1 ) \"*\"          \"*\"          \"*\"          \"*\"              \n",
       "11  ( 1 ) \"*\"          \"*\"          \"*\"          \"*\"              \n",
       "12  ( 1 ) \"*\"          \"*\"          \"*\"          \"*\"              "
      ]
     },
     "metadata": {},
     "output_type": "display_data"
    },
    {
     "data": {
      "text/html": [
       "<table class=\"dataframe\">\n",
       "<caption>A tibble: 12 × 4</caption>\n",
       "<thead>\n",
       "\t<tr><th scope=col>n_input_variables</th><th scope=col>RSQ</th><th scope=col>RSS</th><th scope=col>ADJ.R2</th></tr>\n",
       "\t<tr><th scope=col>&lt;int&gt;</th><th scope=col>&lt;dbl&gt;</th><th scope=col>&lt;dbl&gt;</th><th scope=col>&lt;dbl&gt;</th></tr>\n",
       "</thead>\n",
       "<tbody>\n",
       "\t<tr><td>1</td><td>0.3166765</td><td>2386420903</td><td>0.3165958</td></tr>\n",
       "\t<tr><td>2</td><td>0.4454842</td><td>1936576319</td><td>0.4453531</td></tr>\n",
       "\t<tr><td>3</td><td>0.4909530</td><td>1777782394</td><td>0.4907725</td></tr>\n",
       "\t<tr><td>⋮</td><td>⋮</td><td>⋮</td><td>⋮</td></tr>\n",
       "\t<tr><td>10</td><td>0.5410271</td><td>1602904957</td><td>0.5404842</td></tr>\n",
       "\t<tr><td>11</td><td>0.5414985</td><td>1601258438</td><td>0.5409019</td></tr>\n",
       "\t<tr><td>12</td><td>0.5415509</td><td>1601075444</td><td>0.5409000</td></tr>\n",
       "</tbody>\n",
       "</table>\n"
      ],
      "text/latex": [
       "A tibble: 12 × 4\n",
       "\\begin{tabular}{llll}\n",
       " n\\_input\\_variables & RSQ & RSS & ADJ.R2\\\\\n",
       " <int> & <dbl> & <dbl> & <dbl>\\\\\n",
       "\\hline\n",
       "\t 1 & 0.3166765 & 2386420903 & 0.3165958\\\\\n",
       "\t 2 & 0.4454842 & 1936576319 & 0.4453531\\\\\n",
       "\t 3 & 0.4909530 & 1777782394 & 0.4907725\\\\\n",
       "\t ⋮ & ⋮ & ⋮ & ⋮\\\\\n",
       "\t 10 & 0.5410271 & 1602904957 & 0.5404842\\\\\n",
       "\t 11 & 0.5414985 & 1601258438 & 0.5409019\\\\\n",
       "\t 12 & 0.5415509 & 1601075444 & 0.5409000\\\\\n",
       "\\end{tabular}\n"
      ],
      "text/markdown": [
       "\n",
       "A tibble: 12 × 4\n",
       "\n",
       "| n_input_variables &lt;int&gt; | RSQ &lt;dbl&gt; | RSS &lt;dbl&gt; | ADJ.R2 &lt;dbl&gt; |\n",
       "|---|---|---|---|\n",
       "| 1 | 0.3166765 | 2386420903 | 0.3165958 |\n",
       "| 2 | 0.4454842 | 1936576319 | 0.4453531 |\n",
       "| 3 | 0.4909530 | 1777782394 | 0.4907725 |\n",
       "| ⋮ | ⋮ | ⋮ | ⋮ |\n",
       "| 10 | 0.5410271 | 1602904957 | 0.5404842 |\n",
       "| 11 | 0.5414985 | 1601258438 | 0.5409019 |\n",
       "| 12 | 0.5415509 | 1601075444 | 0.5409000 |\n",
       "\n"
      ],
      "text/plain": [
       "   n_input_variables RSQ       RSS        ADJ.R2   \n",
       "1  1                 0.3166765 2386420903 0.3165958\n",
       "2  2                 0.4454842 1936576319 0.4453531\n",
       "3  3                 0.4909530 1777782394 0.4907725\n",
       "⋮  ⋮                 ⋮         ⋮          ⋮        \n",
       "10 10                0.5410271 1602904957 0.5404842\n",
       "11 11                0.5414985 1601258438 0.5409019\n",
       "12 12                0.5415509 1601075444 0.5409000"
      ]
     },
     "metadata": {},
     "output_type": "display_data"
    }
   ],
   "source": [
    "bike_forward_summary\n",
    "bike_forward_summary_df\n"
   ]
  }
 ],
 "metadata": {
  "kernelspec": {
   "display_name": "R",
   "language": "R",
   "name": "ir"
  },
  "language_info": {
   "codemirror_mode": "r",
   "file_extension": ".r",
   "mimetype": "text/x-r-source",
   "name": "R",
   "pygments_lexer": "r",
   "version": "4.1.1"
  }
 },
 "nbformat": 4,
 "nbformat_minor": 5
}
